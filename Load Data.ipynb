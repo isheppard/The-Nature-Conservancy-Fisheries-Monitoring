{
 "cells": [
  {
   "cell_type": "code",
   "execution_count": 1,
   "metadata": {
    "collapsed": true
   },
   "outputs": [],
   "source": [
    "import numpy as np\n",
    "from PIL import Image\n",
    "import os"
   ]
  },
  {
   "cell_type": "code",
   "execution_count": 126,
   "metadata": {
    "collapsed": false
   },
   "outputs": [],
   "source": [
    "# The load_path function loads the .jpg image and converts it to a numpy array. \n",
    "# It also extracts the image label from path and places it into file_array\n",
    "import os\n",
    "from PIL import Image\n",
    "import time\n",
    "\n",
    "def load_data(paths):\n",
    "    \n",
    "    X = []\n",
    "    file_array = []\n",
    "    label_array = []\n",
    "    \n",
    "    print('..loading test images')\n",
    "    start = time.time()\n",
    "    \n",
    "    for path in glob.glob(paths):\n",
    "        \n",
    "        # load image and convert to np array\n",
    "        im = Image.open(path)\n",
    "        im = np.asarray(im)\n",
    "        X.append(im)\n",
    "\n",
    "        # extract file name\n",
    "        base = os.path.basename(path)\n",
    "        file_name = os.path.splitext(base)[0]\n",
    "        file_array.append(file_name)\n",
    "        \n",
    "        # extract fish label (ALB, BET, DOL, LAG, NoF, OTEHR, SHARK, YFT)\n",
    "        directory = os.path.split(path)[0]\n",
    "        label_array.append(os.path.split(directory)[1])\n",
    "    \n",
    "    print('time elapsed: ' + str(time.time() - start))\n",
    "    \n",
    "    return X, file_array, label_array"
   ]
  },
  {
   "cell_type": "code",
   "execution_count": 189,
   "metadata": {
    "collapsed": true
   },
   "outputs": [],
   "source": [
    "# convert label_array containing m number of labels, in this case, 8 different types of fish, to a one-hot encoded array\n",
    "def convert_to_one_hot(label_array):\n",
    "    n = len(label_array) #number of samples\n",
    "    m = 8 #number of types of fish\n",
    "    \n",
    "    classification_array = np.zeros(n)\n",
    " \n",
    "    # assign numerical label to each type of fish\n",
    "    for sample in xrange(n):\n",
    "        \n",
    "        if label_array[sample] == 'ALB':\n",
    "            classification_array[sample] = 0\n",
    "            \n",
    "        elif label_array[sample] == 'BET':\n",
    "            classification_array[sample] = 1\n",
    "            \n",
    "        elif label_array[sample] == 'DOL':\n",
    "            classification_array[sample] = 2\n",
    "        \n",
    "        elif label_array[sample] == 'LAG':\n",
    "            classification_array[sample] = 3\n",
    "            \n",
    "        elif label_array[sample] == 'NoF':\n",
    "            classification_array[sample] = 4\n",
    "            \n",
    "        elif label_array[sample] == 'OTHER':\n",
    "            classification_array[sample] = 5\n",
    "            \n",
    "        elif label_array[sample] == 'SHARK':\n",
    "            classification_array[sample] = 6\n",
    "            \n",
    "        elif label_array[sample] == 'YFT':\n",
    "            classification_array[sample] = 7\n",
    "            \n",
    "    # covert array to to one-hot encoded array        \n",
    "    classification_array = np.eye(m)[classification_array.astype(int)]\n",
    "            \n",
    "    return classification_array"
   ]
  },
  {
   "cell_type": "code",
   "execution_count": null,
   "metadata": {
    "collapsed": true
   },
   "outputs": [],
   "source": [
    "X, file_array, label_array = load_data('F:/Kaggle/The Nature Conservancy/train/train/*/*')"
   ]
  },
  {
   "cell_type": "code",
   "execution_count": 190,
   "metadata": {
    "collapsed": false
   },
   "outputs": [],
   "source": [
    "one_hot_array = convert_to_one_hot(label_array)"
   ]
  }
 ],
 "metadata": {
  "anaconda-cloud": {},
  "kernelspec": {
   "display_name": "Python [Root]",
   "language": "python",
   "name": "Python [Root]"
  },
  "language_info": {
   "codemirror_mode": {
    "name": "ipython",
    "version": 2
   },
   "file_extension": ".py",
   "mimetype": "text/x-python",
   "name": "python",
   "nbconvert_exporter": "python",
   "pygments_lexer": "ipython2",
   "version": "2.7.12"
  }
 },
 "nbformat": 4,
 "nbformat_minor": 0
}
